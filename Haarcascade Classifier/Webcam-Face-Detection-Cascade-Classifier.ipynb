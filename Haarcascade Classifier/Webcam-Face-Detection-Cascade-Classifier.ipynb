{
 "cells": [
  {
   "cell_type": "markdown",
   "id": "8e180d77",
   "metadata": {},
   "source": [
    "## Webcam Detection "
   ]
  },
  {
   "cell_type": "code",
   "execution_count": 2,
   "id": "d02b8cec",
   "metadata": {},
   "outputs": [],
   "source": [
    "import cv2\n",
    "import numpy as np\n",
    "import matplotlib.pyplot as plt\n",
    "%matplotlib inline"
   ]
  },
  {
   "cell_type": "markdown",
   "id": "3a76a9ae",
   "metadata": {},
   "source": [
    "## Detecting Faces"
   ]
  },
  {
   "cell_type": "code",
   "execution_count": 17,
   "id": "7985befb",
   "metadata": {},
   "outputs": [],
   "source": [
    "face_detector = cv2.CascadeClassifier('haarcascade_frontalface_default.xml')\n",
    "webcam_video_capture = cv2.VideoCapture(0)\n",
    "\n",
    "while True:\n",
    "    # capture frame by frame\n",
    "    ret, frame = webcam_video_capture.read()\n",
    "    image_gray = cv2.cvtColor(frame, cv2.COLOR_BGR2GRAY)\n",
    "    detections = face_detector.detectMultiScale(image_gray, minSize=(10,10))\n",
    "\n",
    "    # draw rectangle around the faces\n",
    "    for (x,y,w,h) in detections:\n",
    "        #print(w,h)\n",
    "        cv2.rectangle(frame, (x,y), (x+w, y+h), (0,255,0), 2)\n",
    "    \n",
    "    # display the resulting frame\n",
    "    cv2.imshow('Face Detected',frame)\n",
    "    \n",
    "    if cv2.waitKey(1) & 0xFF == ord('q'):\n",
    "        break\n",
    "\n",
    "# when everything is done, release the capture\n",
    "webcam_video_capture.release()\n",
    "cv2.destroyAllWindows()"
   ]
  },
  {
   "cell_type": "markdown",
   "id": "57f3cf4d",
   "metadata": {},
   "source": [
    "## Detecting Eyes"
   ]
  },
  {
   "cell_type": "code",
   "execution_count": 16,
   "id": "06dc2a06",
   "metadata": {},
   "outputs": [],
   "source": [
    "face_detector = cv2.CascadeClassifier('haarcascade_eye.xml')\n",
    "webcam_video_capture = cv2.VideoCapture(0)\n",
    "\n",
    "while True:\n",
    "    # capture frame by frame\n",
    "    ret, frame = webcam_video_capture.read()\n",
    "    image_gray = cv2.cvtColor(frame, cv2.COLOR_BGR2GRAY)\n",
    "    detections = face_detector.detectMultiScale(image_gray, maxSize=(80,80))\n",
    "\n",
    "    # draw rectangle around the faces\n",
    "    for (x,y,w,h) in detections:\n",
    "        #print(w,h)\n",
    "        cv2.rectangle(frame, (x,y), (x+w, y+h), (0,255,0), 2)\n",
    "    \n",
    "    # display the resulting frame\n",
    "    cv2.imshow('Face Detected',frame)\n",
    "    \n",
    "    if cv2.waitKey(1) & 0xFF == ord('q'):\n",
    "        break\n",
    "\n",
    "# when everything is done, release the capture\n",
    "webcam_video_capture.release()\n",
    "cv2.destroyAllWindows()"
   ]
  },
  {
   "cell_type": "code",
   "execution_count": null,
   "id": "ef9acf23",
   "metadata": {},
   "outputs": [],
   "source": []
  }
 ],
 "metadata": {
  "kernelspec": {
   "display_name": "Python 3",
   "language": "python",
   "name": "python3"
  },
  "language_info": {
   "codemirror_mode": {
    "name": "ipython",
    "version": 3
   },
   "file_extension": ".py",
   "mimetype": "text/x-python",
   "name": "python",
   "nbconvert_exporter": "python",
   "pygments_lexer": "ipython3",
   "version": "3.8.8"
  }
 },
 "nbformat": 4,
 "nbformat_minor": 5
}
